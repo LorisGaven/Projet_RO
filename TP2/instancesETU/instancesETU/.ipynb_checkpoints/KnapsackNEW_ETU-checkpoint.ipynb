{
 "cells": [
  {
   "cell_type": "markdown",
   "metadata": {},
   "source": [
    "# TP 2-3 : Branch-and-bound applied to a knapsack problem"
   ]
  },
  {
   "cell_type": "markdown",
   "metadata": {},
   "source": [
    "### Initialisation (à faire une seule fois)"
   ]
  },
  {
   "cell_type": "code",
   "execution_count": 1,
   "metadata": {},
   "outputs": [
    {
     "name": "stderr",
     "output_type": "stream",
     "text": [
      "\u001b[32m\u001b[1m    Updating\u001b[22m\u001b[39m registry at `~/.julia/registries/General`\n"
     ]
    },
    {
     "name": "stderr",
     "output_type": "stream",
     "text": [
      "\u001b[32m\u001b[1m    Updating\u001b[22m\u001b[39m git-repo `https://github.com/JuliaRegistries/General.git`\n"
     ]
    },
    {
     "name": "stderr",
     "output_type": "stream",
     "text": [
      "\u001b[32m\u001b[1m   Resolving\u001b[22m\u001b[39m package versions...\n"
     ]
    },
    {
     "name": "stderr",
     "output_type": "stream",
     "text": [
      "\u001b[32m\u001b[1m  No Changes\u001b[22m\u001b[39m to `~/.julia/environments/v1.8/Project.toml`\n",
      "\u001b[32m\u001b[1m  No Changes\u001b[22m\u001b[39m to `~/.julia/environments/v1.8/Manifest.toml`\n"
     ]
    },
    {
     "name": "stderr",
     "output_type": "stream",
     "text": [
      "\u001b[32m\u001b[1m   Resolving\u001b[22m\u001b[39m package versions...\n"
     ]
    },
    {
     "name": "stderr",
     "output_type": "stream",
     "text": [
      "\u001b[32m\u001b[1m  No Changes\u001b[22m\u001b[39m to `~/.julia/environments/v1.8/Project.toml`\n",
      "\u001b[32m\u001b[1m  No Changes\u001b[22m\u001b[39m to `~/.julia/environments/v1.8/Manifest.toml`\n"
     ]
    }
   ],
   "source": [
    "import Pkg; \n",
    "Pkg.add(\"GraphRecipes\"); Pkg.add(\"Plots\"); \n",
    "using GraphRecipes, Plots #only used to visualize the search tree at the end of the branch-and-bound"
   ]
  },
  {
   "cell_type": "markdown",
   "metadata": {},
   "source": [
    "### Récupération des données"
   ]
  },
  {
   "cell_type": "code",
   "execution_count": 2,
   "metadata": {},
   "outputs": [
    {
     "data": {
      "text/plain": [
       "readKnaptxtInstance (generic function with 1 method)"
      ]
     },
     "metadata": {},
     "output_type": "display_data"
    }
   ],
   "source": [
    "function readKnaptxtInstance(filename)\n",
    "    price=[]\n",
    "    weight=[]\n",
    "    KnapCap=[]\n",
    "    open(filename) do f\n",
    "        for i in 1:3\n",
    "            tok = split(readline(f))\n",
    "            if(tok[1] == \"ListPrices=\")\n",
    "                for i in 2:(length(tok)-1)\n",
    "                    push!(price,parse(Int64, tok[i]))\n",
    "                end\n",
    "            elseif(tok[1] == \"ListWeights=\")\n",
    "                for i in 2:(length(tok)-1)\n",
    "                    push!(weight,parse(Int64, tok[i]))\n",
    "                end\n",
    "            elseif(tok[1] == \"Capacity=\")\n",
    "                push!(KnapCap, parse(Int64, tok[2]))\n",
    "            else\n",
    "                println(\"Unknown read :\", tok)\n",
    "            end \n",
    "        end\n",
    "    end\n",
    "    capacity=KnapCap[1]\n",
    "    return price, weight, capacity\n",
    "end"
   ]
  },
  {
   "cell_type": "markdown",
   "metadata": {},
   "source": [
    "### Tests de sondabilités TA, TO et TR basés sur le modèle linéaire"
   ]
  },
  {
   "cell_type": "code",
   "execution_count": 3,
   "metadata": {},
   "outputs": [
    {
     "data": {
      "text/plain": [
       "TestsSondabilite_LP (generic function with 1 method)"
      ]
     },
     "metadata": {},
     "output_type": "display_data"
    }
   ],
   "source": [
    "function TestsSondabilite_LP(bi, bs, BestProfit, Bestsol, capacite, price, listobjs)\n",
    "    TA, TO, TR = false, false, false\n",
    "    if(capacite < 0)#Test de faisabilite\n",
    "        TA=true\n",
    "        println(\"TA\")\n",
    "    elseif(bs <= BestProfit) #Test d'optimalite\n",
    "        TO=true\n",
    "        println(\"TO\")\n",
    "    elseif(bi == bs)\n",
    "        #Test de resolution\n",
    "        TR=true\n",
    "        println(\"TR\")\n",
    "        #if (value(benef) >= BestProfit)\n",
    "        if (bi >= BestProfit)\n",
    "            Bestsol = listobjs\n",
    "            #BestProfit=value(benef)\n",
    "            BestProfit=bi\n",
    "            println(\"\\nNew Solution memorized \", Bestsol, \" with bestprofit \", BestProfit, \"\\n\")\n",
    "        end\n",
    "    else\n",
    "        println(\"non sondable\")\n",
    "    end\n",
    "    TA, TO, TR, Bestsol, BestProfit\n",
    "end"
   ]
  },
  {
   "cell_type": "markdown",
   "metadata": {},
   "source": [
    "## Procédure de séparation (branching) et stratégie d'exploration permettant de se placer au prochain noeud à traiter"
   ]
  },
  {
   "cell_type": "code",
   "execution_count": 4,
   "metadata": {},
   "outputs": [
    {
     "data": {
      "text/plain": [
       "ExplorerAutreNoeud_depthfirst! (generic function with 1 method)"
      ]
     },
     "metadata": {},
     "output_type": "display_data"
    }
   ],
   "source": [
    "\n",
    "function SeparerNoeud_lexicographic_depthfirst!(listobjs, listvals, n)\n",
    "    # this node is non-sondable. Apply the branching criterion to separate it into two subnodes\n",
    "    # and choose the child-node at the left  \n",
    "    \n",
    "    # lexicographic branching criterion: branch on the 1st object not yet fixed\n",
    "    i, obj = 1, 0\n",
    "    while((i <= n) && (obj==0))\n",
    "        if(!(i in listobjs))\n",
    "            obj=i\n",
    "        end\n",
    "        i+=1\n",
    "    end\n",
    "    \n",
    "    println(\"\\nbranch on object \", obj, \"\\n\")\n",
    "\n",
    "    # depthfirst exploration strategy: the node selected will be the most left of the child-nodes just created\n",
    "    push!(listobjs,obj) #save the identity of the object selected for branching\n",
    "    push!(listvals,1.0) #save the node selected, identified by the value assigned to the variable/object chosen\n",
    "end\n",
    "\n",
    "\n",
    "function ExplorerAutreNoeud_depthfirst!(listobjs, listvals, listnodes)\n",
    "    #this node is sondable, go back to parent node then right child if possible\n",
    "    \n",
    "    stop=false\n",
    "    #check if we are not at the root node\n",
    "    if (length(listobjs)>= 1)\n",
    "        #go back to parent node\n",
    "        obj=pop!(listobjs)\n",
    "        theval=pop!(listvals)\n",
    "        tmp=pop!(listnodes)\n",
    "\n",
    "        #go to right child if possible, otherwise go back to parent\n",
    "        while( (theval==0.0) && (length(listobjs)>= 1))\n",
    "            obj=pop!(listobjs)\n",
    "            theval=pop!(listvals)\n",
    "            tmp=pop!(listnodes)\n",
    "        end\n",
    "        if theval==1.0\n",
    "            push!(listobjs,obj)\n",
    "            push!(listvals,0.0)\n",
    "        else\n",
    "            println(\"\\nFINISHED\")\n",
    "            stop=true\n",
    "        end\n",
    "    else\n",
    "        #the root node was sondable\n",
    "        println(\"\\nFINISHED\")\n",
    "        stop=true\n",
    "    end\n",
    "    return stop \n",
    "end"
   ]
  },
  {
   "cell_type": "code",
   "execution_count": 5,
   "metadata": {},
   "outputs": [
    {
     "data": {
      "text/plain": [
       "calculer_borne (generic function with 1 method)"
      ]
     },
     "metadata": {},
     "output_type": "display_data"
    }
   ],
   "source": [
    "function calculer_borne(borne, listobjs, listvals, price, weight, capacity)\n",
    "    capacity_maj = capacity\n",
    "    r = price ./ weight\n",
    "    bs = 0\n",
    "    bi = 0\n",
    "    println(listobjs)\n",
    "    println(listvals)\n",
    "    for obj in listobjs\n",
    "        bi += listvals[obj] * price[obj]\n",
    "        capacity_maj -= listvals[obj] * weight[obj]\n",
    "        r[obj] = 0\n",
    "    end\n",
    "    bs = bi\n",
    "    if borne == 1\n",
    "        #calcul Borne1\n",
    "        bs += capacity_maj * maximum(r)\n",
    "    else\n",
    "        #calcul Borne2\n",
    "        while capacity_maj > 0\n",
    "            obj = argmax(r)\n",
    "            bs += min(capacity_maj * r[obj], price[obj])\n",
    "            capacity_maj -= weight[obj]\n",
    "            r[obj] = 0\n",
    "        end \n",
    "    end\n",
    "    return bi, bs\n",
    "end"
   ]
  },
  {
   "cell_type": "markdown",
   "metadata": {},
   "source": [
    "### Boucle principale : résoudre une relaxation, appliquer les tests de sondabilité, identifier le prochain noeud, répéter."
   ]
  },
  {
   "cell_type": "code",
   "execution_count": 14,
   "metadata": {},
   "outputs": [
    {
     "data": {
      "text/plain": [
       "SolveKnapInstance (generic function with 2 methods)"
      ]
     },
     "metadata": {},
     "output_type": "display_data"
    }
   ],
   "source": [
    "\n",
    "function SolveKnapInstance(filename, verbose=false)\n",
    "\n",
    "    price, weight, capacity_max = readKnaptxtInstance(filename)\n",
    "    n = length(price)\n",
    "\n",
    "    #create the structure to memorize the search tree for visualization at the end\n",
    "    trParentnodes=Int64[] #will store orig node of arc in search tree\n",
    "    trChildnodes=Int64[] #will store destination node of arc in search tree\n",
    "    trNamenodes=[] #will store names of nodes in search tree\n",
    "\n",
    "    #intermediate structure to navigate in the search tree\n",
    "    listobjs=[]\n",
    "    listvals=[]\n",
    "    listnodes=[]\n",
    "\n",
    "    BestProfit=-1\n",
    "    Bestsol=[]\n",
    "    :13\n",
    "    current_node_number=0\n",
    "    stop = false\n",
    "\n",
    "    while(!stop)\n",
    "        capacity = capacity_max\n",
    "\n",
    "        if (verbose)\n",
    "            println(\"\\nNode number \", current_node_number, \": \\n---------------\\n\")\n",
    "        end\n",
    "\n",
    "        #Update the graphical tree\n",
    "        push!(trNamenodes,current_node_number+1) #MajModele_LP!(model2, x, listobjs, listvals)\n",
    "        if(length(trNamenodes)>=2)\n",
    "            push!(trParentnodes,listnodes[end]+1) # +1 because the 1st node is \"node 0\"\n",
    "            push!(trChildnodes, current_node_number+1) # +1 because the 1st node is \"node 0\"\n",
    "        end\n",
    "        push!(listnodes, current_node_number)\n",
    "\n",
    "        \n",
    "        #maj capacity\n",
    "        for obj in listobjs\n",
    "            capacity -= listvals[obj] * weight[obj]\n",
    "        end\n",
    "        \n",
    "        #create LP of current node\n",
    "        #MajModele_LP!(model2, x, listobjs, listvals)\n",
    "        bi, bs = calculer_borne(1, listobjs, listvals, price, weight, capacity_max)\n",
    "\n",
    "        #println(model2)\n",
    "        \n",
    "        #print(\"Solve the LP model of the current node to compute its bound: start ... \")\n",
    "\n",
    "        #status = optimize!(model2)\n",
    "\n",
    "        #println(\"... end\"); \n",
    "\n",
    "        #print(\": Solution LP\")\n",
    "        #if(termination_status(model2) == MOI.INFEASIBLE)#(has_values(model2))\n",
    "        #    print(\" : NOT AVAILABLE (probably infeasible or ressources limit reached)\")\n",
    "        #else\n",
    "        #    print(\" \", objective_value(model2))\n",
    "        #    [print(\"\\t\", name(v),\"=\",value(v)) for v in all_variables(model2)] \n",
    "        #end\n",
    "        #println(\" \"); \n",
    "\n",
    "        if (verbose)\n",
    "            println(\"\\nPrevious Solution memorized \", Bestsol, \" with bestprofit \", BestProfit, \"\\n\")\n",
    "        end\n",
    "\n",
    "        println(bi)\n",
    "        println(bs)\n",
    "        TA, TO, TR, Bestsol, BestProfit = TestsSondabilite_LP(bi, bs, BestProfit, Bestsol, capacity, price, listobjs)\n",
    "\n",
    "        is_node_sondable = TA || TO || TR\n",
    "\n",
    "        #Reset_LP!(model2, x, listobjs)\n",
    "\n",
    "        if(!is_node_sondable)\n",
    "            SeparerNoeud_lexicographic_depthfirst!(listobjs, listvals, length(price))\n",
    "        else\n",
    "            stop = ExplorerAutreNoeud_depthfirst!(listobjs, listvals, listnodes)\n",
    "        end\n",
    "        \n",
    "        #Reset_allLP!(model2, x)\n",
    "\n",
    "        current_node_number = current_node_number + 1\n",
    "    end\n",
    "    \n",
    "    if (verbose)\n",
    "        println(\"\\n******\\n\\nOptimal value = \", BestProfit, \"\\n\\nOptimal x=\", Bestsol)\n",
    "    end\n",
    "\n",
    "    return BestProfit, Bestsol, trParentnodes, trChildnodes, trNamenodes\n",
    "\n",
    "end\n"
   ]
  },
  {
   "cell_type": "markdown",
   "metadata": {},
   "source": [
    "### Affichage du résultat final"
   ]
  },
  {
   "cell_type": "code",
   "execution_count": 16,
   "metadata": {},
   "outputs": [],
   "source": [
    "BestProfit, Bestsol, trParentnodes, trChildnodes, trNamenodes = SolveKnapInstance(\"/home/lgaven/Annee_2/Projet_RO/TP2/instancesETU/instancesETU/KNAPnewformat/almost_strongly_correlated/knapPI_5_50_1000_1_-2096.opb.txt\")\n",
    "println(\"\\n******\\n\\nOptimal value = \", BestProfit, \"\\n\\nOptimal x=\", Bestsol)\n",
    "println(\"\\nNombre de noeud = \", length(trNamenodes))\n",
    "#graphplot(trParentnodes, trChildnodes, names=trNamenodes, method=:tree)"
   ]
  }
 ],
 "metadata": {
  "kernelspec": {
   "display_name": "Julia 1.8.2",
   "language": "julia",
   "name": "julia-1.8"
  },
  "language_info": {
   "file_extension": ".jl",
   "mimetype": "application/julia",
   "name": "julia",
   "version": "1.8.2"
  }
 },
 "nbformat": 4,
 "nbformat_minor": 4
}
